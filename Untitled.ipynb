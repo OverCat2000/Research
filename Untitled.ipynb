{
 "cells": [
  {
   "cell_type": "code",
   "execution_count": null,
   "id": "a11a6bf5",
   "metadata": {},
   "outputs": [],
   "source": []
  },
  {
   "cell_type": "code",
   "execution_count": null,
   "id": "e8471d9c",
   "metadata": {
    "lines_to_next_cell": 2
   },
   "outputs": [],
   "source": [
    "\n",
    "\n",
    "import pandas as pd\n",
    "import numpy as np\n",
    "import matplotlib.pyplot as plt\n",
    "import plotly.graph_objects as go\n",
    "import mplfinance as mpf"
   ]
  },
  {
   "cell_type": "code",
   "execution_count": null,
   "id": "6d8ed677",
   "metadata": {},
   "outputs": [],
   "source": [
    "\n",
    "\n",
    "## drift coefficent\n",
    "mu = 0.5\n",
    "## number of steps\n",
    "n = 10002\n",
    "## time in years\n",
    "T = 10\n",
    "## number of sims\n",
    "M = 100\n",
    "# initial stock price\n",
    "S0 = 100\n",
    "#volatility\n",
    "sigma = 0.7\n",
    "\n",
    "\n",
    "# $$ S_{t} = S_{0}e^{(\\mu - \\frac{\\sigma^2}{2})t + \\sigma W_{t}}$$"
   ]
  },
  {
   "cell_type": "code",
   "execution_count": null,
   "id": "40166de6",
   "metadata": {
    "lines_to_next_cell": 2
   },
   "outputs": [],
   "source": [
    "\n",
    "\n",
    "## calc ecch time step\n",
    "dt = T/n\n",
    "\n",
    "St = np.exp(\n",
    "    (mu - sigma ** 2 / 2) * dt\n",
    "    + sigma * np.random.normal(0, np.sqrt(dt), size=(M, n)).T\n",
    ")\n",
    "\n",
    "St = np.vstack([np.ones(M), St])\n",
    "\n",
    "St = S0 * St.cumprod(axis=0)"
   ]
  },
  {
   "cell_type": "code",
   "execution_count": null,
   "id": "717d3b6d",
   "metadata": {
    "lines_to_next_cell": 2
   },
   "outputs": [],
   "source": [
    "\n",
    "\n",
    "time = np.linspace(0, T, n + 1)\n",
    "\n",
    "tt = np.full(shape=(M, n+1), fill_value=time).T"
   ]
  },
  {
   "cell_type": "code",
   "execution_count": null,
   "id": "fa582a67",
   "metadata": {
    "lines_to_next_cell": 2
   },
   "outputs": [],
   "source": [
    "\n",
    "\n",
    "plt.plot(tt, St)\n",
    "plt.show()"
   ]
  },
  {
   "cell_type": "code",
   "execution_count": null,
   "id": "9c446607",
   "metadata": {
    "lines_to_next_cell": 2
   },
   "outputs": [],
   "source": [
    "\n",
    "\n",
    "def to_candel(idx, St):\n",
    "    ts1 = St[:, idx]\n",
    "    ts1 = ts1.reshape(-1, 7)\n",
    "    Low = np.min(ts1, axis=1)\n",
    "    High = np.max(ts1, axis=1)\n",
    "    Open = ts1[:, 0]\n",
    "    Close = ts1[:, -1]\n",
    "    return np.vstack((Open, High, Low, Close))"
   ]
  },
  {
   "cell_type": "code",
   "execution_count": null,
   "id": "08bd9851",
   "metadata": {
    "lines_to_next_cell": 2
   },
   "outputs": [],
   "source": [
    "\n",
    "\n",
    "def plot(idx, St):\n",
    "    OHLC = to_candel(idx, St)\n",
    "    \n",
    "    # Sample OHLC data without timestamps and volume\n",
    "    data = {\n",
    "        'Open':OHLC[0],\n",
    "        'High':OHLC[1], \n",
    "        'Low': OHLC[2], \n",
    "        'Close': OHLC[3]\n",
    "    }\n",
    "    \n",
    "    # Create a DataFrame\n",
    "    df = pd.DataFrame(data)\n",
    "    \n",
    "    # Create a dummy date range to use as an index\n",
    "    df.index = pd.date_range(start=\"2023-01-01\", periods=len(df), freq=\"D\")\n",
    "    \n",
    "    # Plot the candlestick chart\n",
    "    # add_plot = mpf.make_addplot(df['Close'], color='blue', linestyle='-')\n",
    "    fig, (ax1, ax2) = plt.subplots(1, 2, figsize=(20, 5))\n",
    "    \n",
    "    mpf.plot(df, type='candle', style='yahoo', ax=ax1)\n",
    "    ax2.plot(tt, St[:, idx])\n",
    "    plt.plot()"
   ]
  },
  {
   "cell_type": "code",
   "execution_count": null,
   "id": "171bdd5b",
   "metadata": {
    "lines_to_next_cell": 2
   },
   "outputs": [],
   "source": [
    "\n",
    "\n",
    "plot(1, St)"
   ]
  },
  {
   "cell_type": "code",
   "execution_count": null,
   "id": "2fe39820",
   "metadata": {},
   "outputs": [],
   "source": [
    "\n",
    "\n",
    "\n"
   ]
  },
  {
   "cell_type": "code",
   "execution_count": null,
   "id": "d74eb531",
   "metadata": {},
   "outputs": [],
   "source": [
    "\n",
    "\n",
    "class STC:\n",
    "    def __init__(self, mat):\n",
    "        self.mat = mat\n",
    "    def get_trend(self, idx):\n",
    "        if idx > 7:\n",
    "            return self.mat[3][idx - 8: idx]\n",
    "        else:\n",
    "            \"pass\"\n",
    "    def get_sub_trend(self, idx, pos):\n",
    "        x = self.get_trend(idx)[pos: pos + 5]\n",
    "        return x\n",
    "    def ap(self, idx, pos):\n",
    "        return np.mean(self.get_sub_trend(idx, pos))\n",
    "    def price_trend(self, idx):\n",
    "        aps = [self.ap(idx, 0),\n",
    "              self.ap(idx, 1),\n",
    "              self.ap(idx, 2), \n",
    "              self.ap(idx, 3)]\n",
    "        if (aps[0] < aps[1] < aps[2] < aps[3]):\n",
    "        # if all(aps[i] < aps[i + 1] for i in range(len(aps) - 1)): \n",
    "            return 1\n",
    "        elif (aps[0] > aps[1] > aps[2] > aps[3]):\n",
    "            return -1\n",
    "        else:\n",
    "            return 0\n",
    "class S:\n",
    "    def __init__(self, mat, idx, length):\n",
    "        self.mat = np.moveaxis(mat, 0, 1)\n",
    "        self.idx = idx\n",
    "        self.stc = STC(mat)\n",
    "        self.length = length\n",
    "        self.pattern = self.mat[idx:idx + length, :] \n",
    "    # def slice(self, length):\n",
    "    #     return self.mat[self.idx: self.idx + length, :]\n",
    "    def get_trend(self):\n",
    "        return self.stc.get_trend(self.idx)\n",
    "    def values(self, length):\n",
    "        return self.mat[self.idx - 8: self.idx + length, :]\n",
    "    def ap(self):\n",
    "        return self.stc.ap(self.idx)\n",
    "    def price_trend(self):\n",
    "        return self.stc.price_trend(self.idx)\n",
    "    \n",
    "    def op(self, i):\n",
    "        return self.pattern[i][0]\n",
    "    def cp(self, i):\n",
    "        return self.pattern[i][3]\n",
    "    def hp(self, i):\n",
    "        return self.pattern[i][1]\n",
    "    def lp(self, i):\n",
    "        return self.pattern[i][2]\n",
    "\n",
    "    def sli_greater(self, x, y):\n",
    "        ratio = (x - y) / y\n",
    "        return 0.003 <= ratio < 0.01\n",
    "    def ext_near(self, x, y):\n",
    "        numerator = np.absolute(x - y)\n",
    "        denominator = np.maximum(x, y)\n",
    "        return (numerator / denominator) <= 0.003\n",
    "        \n",
    "    \n",
    "    def white_body(self, i):\n",
    "        return self.pattern[i][0] < self.pattern[i][3]\n",
    "    def small_body(self, i):\n",
    "        return self.sli_greater(self.tp_body(i), self.bm_body(i))\n",
    "    def no_ls(self, i):\n",
    "        return self.ext_near(self.lp(i), self.bm_body(i))\n",
    "    \n",
    "       \n",
    "    def tp_body(self, i):\n",
    "        x = np.maximum(self.op(i), self.cp(i))\n",
    "        return x\n",
    "    def bm_body(self, i):\n",
    "        return np.minimum(self.op(i), self.cp(i))\n",
    "        \n",
    "    def us(self, i):\n",
    "        return self.hp(i) - self.tp_body(i)\n",
    "    def ls(self, i):\n",
    "        return self.bm_body(i) - self.lp(i)\n",
    "    def hs(self, i):\n",
    "        return self.us(i) + self.ls(i)\n",
    "    def hb(self, i):\n",
    "        return np.absolute(self.cp(i) - self.op(i))\n",
    "    \n",
    "\n",
    "class AdvancedBlock:\n",
    "    def __init__(self, s):\n",
    "        self.s = s\n",
    "    def check(self):\n",
    "        return (self.s.price_trend() == 1) & self.s.white_body(0) & self.s.white_body(1) & self.s.white_body(2) &\\\n",
    "        (self.s.op(0) < self.s.op(1) < self.s.cp(0)) & \\\n",
    "        (self.s.op(1) < self.s.op(2) < self.s.cp(1)) & \\\n",
    "        (self.s.hs(2) > self.s.hb(2)) & \\\n",
    "        (self.s.hs(1) > self.s.hb(1)) & \\\n",
    "        (self.s.hs(2) > self.s.hs(0)) & \\\n",
    "        (self.s.hs(1) > self.s.hs(0))\n",
    "        \n"
   ]
  },
  {
   "cell_type": "code",
   "execution_count": null,
   "id": "6af1f978",
   "metadata": {},
   "outputs": [],
   "source": [
    "\n",
    "\n",
    "class Hammer:\n",
    "    def __init__(self, s):\n",
    "        self.s = s\n",
    "    def check(self):\n",
    "        return self.s.no_ls()\n",
    "    \n"
   ]
  },
  {
   "cell_type": "code",
   "execution_count": null,
   "id": "66b6b30b",
   "metadata": {
    "lines_to_next_cell": 2
   },
   "outputs": [],
   "source": [
    "\n",
    "\n",
    "def print_pattern(temp):\n",
    "    data = {\n",
    "            'Open':temp[0],\n",
    "            'High':temp[1], \n",
    "            'Low': temp[2], \n",
    "            'Close': temp[3]\n",
    "        }\n",
    "    \n",
    "    # Create a DataFrame\n",
    "    df = pd.DataFrame(data)\n",
    "    \n",
    "    # Create a dummy date range to use as an index\n",
    "    df.index = pd.date_range(start=\"2023-01-01\", periods=len(df), freq=\"D\")\n",
    "    \n",
    "    # Plot the candlestick chart\n",
    "    mpf.plot(df, type='candle', style='yahoo')"
   ]
  },
  {
   "cell_type": "code",
   "execution_count": null,
   "id": "3d0213d4",
   "metadata": {
    "lines_to_next_cell": 2
   },
   "outputs": [],
   "source": [
    "\n",
    "\n",
    "count = 0\n",
    "for j in range(100):\n",
    "    mat = to_candel(j, St)\n",
    "    for i in range(8, mat.shape[1] - 3):\n",
    "        s = S(mat, idx=i, length=1)\n",
    "        if s.small_body(0):\n",
    "            temp = np.moveaxis(s.values(1), 1, 0)\n",
    "            print_pattern(temp)\n",
    "        # if AdvancedBlock(s).check() == True:\n",
    "        #     count = count + 1\n",
    "        #     temp = np.moveaxis(s.values(3), 1, 0)\n",
    "        #     print_pattern(temp)\n",
    "print(count)"
   ]
  },
  {
   "cell_type": "code",
   "execution_count": null,
   "id": "6417b64c",
   "metadata": {},
   "outputs": [],
   "source": [
    "\n",
    "\n",
    "\n"
   ]
  },
  {
   "cell_type": "code",
   "execution_count": null,
   "id": "8967f2c5",
   "metadata": {},
   "outputs": [],
   "source": [
    "\n",
    "\n",
    "\n"
   ]
  },
  {
   "cell_type": "code",
   "execution_count": null,
   "id": "bb4104be",
   "metadata": {
    "lines_to_next_cell": 2
   },
   "outputs": [],
   "source": [
    "\n",
    "\n"
   ]
  }
 ],
 "metadata": {
  "jupytext": {
   "cell_metadata_filter": "-all",
   "encoding": "# coding: utf-8",
   "executable": "/usr/bin/env python",
   "main_language": "python",
   "notebook_metadata_filter": "-all"
  }
 },
 "nbformat": 4,
 "nbformat_minor": 5
}

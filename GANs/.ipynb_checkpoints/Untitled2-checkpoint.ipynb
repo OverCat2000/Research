{
 "cells": [
  {
   "cell_type": "code",
   "execution_count": 1,
   "id": "13d053d5-49fd-4ee1-bb18-6c3798e4929c",
   "metadata": {},
   "outputs": [],
   "source": [
    "import os\n",
    "import random\n",
    "import torch\n",
    "import torch.nn as nn\n",
    "import torch.nn.parallel\n",
    "import torch.optim as optim\n",
    "import torch.utils.data\n",
    "from torch.utils.data import Subset\n",
    "\n",
    "import torchvision\n",
    "import torchvision.models \n",
    "import torchvision.datasets as dset\n",
    "import torchvision.transforms as transforms\n",
    "import torchvision.utils as vutils\n",
    "\n",
    "import numpy as np\n",
    "import matplotlib.pyplot as plt\n",
    "import matplotlib.animation as animation\n",
    "from IPython.display import HTML\n",
    "\n",
    "manualSeed = 42\n",
    "\n",
    "random.seed(manualSeed)\n",
    "torch.manual_seed(manualSeed)\n",
    "torch.use_deterministic_algorithms(True)"
   ]
  },
  {
   "cell_type": "code",
   "execution_count": 2,
   "id": "051c1b6e-9284-4114-8b7f-b6719a758a5e",
   "metadata": {},
   "outputs": [],
   "source": [
    "dataroot = \"celeba\"\n",
    "\n",
    "workers = 2\n",
    "\n",
    "batch_size = 128\n",
    "\n",
    "image_size = 64\n",
    "\n",
    "# number of channels\n",
    "nc = 1\n",
    "\n",
    "# size of the latent vector (z)\n",
    "nz = 100\n",
    "\n",
    "# size of the feature maps in the generator\n",
    "ngf = 11\n",
    "\n",
    "# size of thr feature maps in the discriminator\n",
    "ndf = 11\n",
    "\n",
    "num_epochs = 5\n",
    "\n",
    "lr = 0.0002\n",
    "\n",
    "beta1 = 0.5\n",
    "\n",
    "ngpu = 1"
   ]
  },
  {
   "cell_type": "code",
   "execution_count": 3,
   "id": "db92c57c-85e4-4c97-8ebf-aa2c0beeb256",
   "metadata": {},
   "outputs": [],
   "source": [
    "import pickle\n",
    "\n",
    "from torch.utils.data import Dataset\n",
    "from torch.utils.data import DataLoader\n",
    "import torch.nn.functional as F\n",
    "import pandas as pd\n",
    "import plotly.graph_objects as go\n",
    "import mplfinance as mpf\n",
    "from sklearn.preprocessing import LabelEncoder"
   ]
  },
  {
   "cell_type": "code",
   "execution_count": 4,
   "id": "c31de360-4259-47a5-96a7-4f89b592172c",
   "metadata": {},
   "outputs": [],
   "source": [
    "with open(\"synthetic_data.pkl\", \"rb\") as f:\n",
    "    data = pickle.load(f)"
   ]
  },
  {
   "cell_type": "code",
   "execution_count": 5,
   "id": "c2005dbb-a3c9-4b49-856f-3f050d60ef5f",
   "metadata": {},
   "outputs": [],
   "source": [
    "def print_pattern(temp):\n",
    "    data = {\n",
    "            'Open':temp[0],\n",
    "            'High':temp[1], \n",
    "            'Low': temp[2], \n",
    "            'Close': temp[3]\n",
    "        }\n",
    "    \n",
    "    # Create a DataFrame\n",
    "    df = pd.DataFrame(data)\n",
    "    \n",
    "    # Create a dummy date range to use as an index\n",
    "    df.index = pd.date_range(start=\"2023-01-01\", periods=len(df), freq=\"D\")\n",
    "    \n",
    "    # Plot the candlestick chart\n",
    "    mpf.plot(df, type='candle', style='yahoo')"
   ]
  },
  {
   "cell_type": "code",
   "execution_count": 6,
   "id": "b653f876-f013-403a-956e-d613661f2772",
   "metadata": {},
   "outputs": [],
   "source": [
    "features = data[0]\n",
    "labels = data[1]"
   ]
  },
  {
   "cell_type": "code",
   "execution_count": 7,
   "id": "f19a6fd3-9e6c-479f-bb0c-951c2a676bbd",
   "metadata": {},
   "outputs": [],
   "source": [
    "class CustomDataset(Dataset):\n",
    "    def __init__(self, data, labels):\n",
    "        self.data = F.pad(torch.tensor(data, dtype=torch.float32), pad=(0, 7), mode=\"constant\", value=0)\n",
    "        self.label_encoder = LabelEncoder()\n",
    "        self.labels_numeric = torch.tensor(self.label_encoder.fit_transform(labels), dtype=torch.int)\n",
    "        \n",
    "\n",
    "    def __len__(self):\n",
    "        return len(self.data)\n",
    "\n",
    "    def __getitem__(self, idx):\n",
    "        return self.data[idx], self.labels_numeric[idx]\n"
   ]
  },
  {
   "cell_type": "code",
   "execution_count": 8,
   "id": "fa95ef49-1144-457b-b775-c1bf557c8cfc",
   "metadata": {},
   "outputs": [],
   "source": [
    "dataset = CustomDataset(features, labels)\n",
    "dataloader = DataLoader(dataset, batch_size, shuffle=False)"
   ]
  },
  {
   "cell_type": "code",
   "execution_count": 9,
   "id": "28ae1da1-842f-419e-9fc8-2a39fd7eedac",
   "metadata": {},
   "outputs": [
    {
     "data": {
      "image/png": "[encoded data removed]",
      "text/plain": [
       "<Figure size 800x575 with 2 Axes>"
      ]
     },
     "metadata": {},
     "output_type": "display_data"
    },
    {
     "data": {
      "text/plain": [
       "array(['Engulfing Bearish'], dtype='<U17')"
      ]
     },
     "execution_count": 9,
     "metadata": {},
     "output_type": "execute_result"
    }
   ],
   "source": [
    "idx = 120\n",
    "print_pattern(next(iter(dataloader))[0][idx].permute(1, 0))\n",
    "dataset.label_encoder.inverse_transform([next(iter(dataloader))[1][idx].item()])"
   ]
  },
  {
   "cell_type": "code",
   "execution_count": 13,
   "id": "e4be561c-47a7-4cf2-9320-acde00bd5661",
   "metadata": {},
   "outputs": [],
   "source": [
    "class Discriminator(nn.Module):\n",
    "    def __init__(self, in_features):\n",
    "        super().__init__()\n",
    "        self.disc = nn.Sequential(\n",
    "            nn.Linear(in_features, 128),\n",
    "            nn.LeakyReLU(0.01),\n",
    "            nn.Linear(128, 1),\n",
    "            nn.Sigmoid()\n",
    "        )\n",
    "\n",
    "    def forward(self, x):\n",
    "        return self.dics(x)\n",
    "\n",
    "class Generator(nn.Module):\n",
    "    def __init__(self, nz, img_dim):\n",
    "        super().__init__()\n",
    "        self.gen = nn.Sequential(\n",
    "            nn.Linear(z_dim, 256),\n",
    "            nn.LeakyReLU(0.01),\n",
    "            nn.Linear(256, img_dim),\n",
    "            nn.Tanh()\n",
    "        )\n",
    "\n",
    "    def forward(self, x):\n",
    "        return self.gen(x)\n",
    "\n"
   ]
  },
  {
   "cell_type": "code",
   "execution_count": 15,
   "id": "da98c108-97f4-4a25-a907-f0b5180d81ae",
   "metadata": {},
   "outputs": [],
   "source": [
    "device = \"cuda\" if torch.cuda.is_available() else \"cpu\"\n",
    "lr = 3e-4\n",
    "nz = 100\n",
    "image_dim = 11*4*1\n",
    "batch_size = 32\n",
    "num_epochs = 50"
   ]
  },
  {
   "cell_type": "code",
   "execution_count": null,
   "id": "17abfbbc-b1fe-48f3-8447-1afb09abfa3b",
   "metadata": {},
   "outputs": [],
   "source": [
    "disc = Discriminator(image_dim).to(device)\n",
    "gen = Generator(nz, image_dim).to(device)\n",
    "\n",
    "fixed_noise = torch.rand((batch_size, nz)).to(device)\n",
    "\n"
   ]
  }
 ],
 "metadata": {
  "kernelspec": {
   "display_name": "Python 3 (ipykernel)",
   "language": "python",
   "name": "python3"
  },
  "language_info": {
   "codemirror_mode": {
    "name": "ipython",
    "version": 3
   },
   "file_extension": ".py",
   "mimetype": "text/x-python",
   "name": "python",
   "nbconvert_exporter": "python",
   "pygments_lexer": "ipython3",
   "version": "3.12.1"
  }
 },
 "nbformat": 4,
 "nbformat_minor": 5
}

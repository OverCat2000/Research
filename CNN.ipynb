{
 "cells": [
  {
   "cell_type": "code",
   "execution_count": 353,
   "id": "b2b7f040-8dfc-4314-b6dc-d47471a471d4",
   "metadata": {},
   "outputs": [],
   "source": [
    "# !git clone https://github.com/Pseudo-Lab/Tutorial-Book-Utils\n",
    "# !python Tutorial-Book-Utils/PL_data_loader.py --data COVIDTimeSeries\n",
    "# !unzip -q COVIDTimeSeries.zip"
   ]
  },
  {
   "cell_type": "code",
   "execution_count": 416,
   "id": "f7ca76cc-aabf-471f-951d-53ef07ad9e7a",
   "metadata": {},
   "outputs": [],
   "source": [
    "    import pandas as pd\n",
    "import numpy as np\n",
    "import matplotlib.pyplot as plt\n",
    "\n",
    "import torch\n",
    "import torch.nn as nn\n",
    "from torch.utils.data import Dataset, DataLoader, random_split\n",
    "from tqdm.auto import tqdm\n",
    "from timeit import default_timer as timer"
   ]
  },
  {
   "cell_type": "code",
   "execution_count": 417,
   "id": "78574e3e-1b90-444b-9138-e32b2c279771",
   "metadata": {},
   "outputs": [
    {
     "name": "stdout",
     "output_type": "stream",
     "text": [
      "No GPU available, using the CPU instead.\n"
     ]
    }
   ],
   "source": [
    "# import random\n",
    "\n",
    "# def set_seed(seed=42):\n",
    "#     random.seed(seed)  # Python's built-in random module\n",
    "#     np.random.seed(seed)  # NumPy\n",
    "#     torch.manual_seed(seed)  # PyTorch CPU\n",
    "#     torch.cuda.manual_seed(seed)  # PyTorch GPU\n",
    "#     torch.cuda.manual_seed_all(seed)  # Multi-GPU\n",
    "#     torch.backends.cudnn.deterministic = True  # Ensures deterministic behavior\n",
    "#     torch.backends.cudnn.benchmark = False  # Disables optimization that can introduce randomness\n",
    "\n",
    "# set_seed(42)  # Set seed for reproducibility\n",
    "\n",
    "\n",
    "if torch.cuda.is_available():\n",
    "    device = torch.device(\"cuda\")\n",
    "    print(f'There are {torch.cuda.device_count()} GPU(s) available.')\n",
    "    print('Device name:', torch.cuda.get_device_name(0))\n",
    "\n",
    "else:\n",
    "    print('No GPU available, using the CPU instead.')\n",
    "    device = torch.device(\"cpu\")"
   ]
  },
  {
   "cell_type": "code",
   "execution_count": 418,
   "id": "15e98136-5e21-4ef2-b495-8dd62da24306",
   "metadata": {},
   "outputs": [
    {
     "name": "stderr",
     "output_type": "stream",
     "text": [
      "/tmp/ipykernel_17393/4026236824.py:4: UserWarning: Could not infer format, so each element will be parsed individually, falling back to `dateutil`. To ensure parsing is consistent and as-expected, please specify a format.\n",
      "  korea.index = pd.to_datetime(korea.index)\n"
     ]
    }
   ],
   "source": [
    "confirmed = pd.read_csv('time_series_covid19_confirmed_global.csv')\n",
    "confirmed[confirmed['Country/Region']=='Korea, South']\n",
    "korea = confirmed[confirmed['Country/Region']=='Korea, South'].iloc[:,4:].T\n",
    "korea.index = pd.to_datetime(korea.index)\n",
    "daily_cases = korea.diff().fillna(korea.iloc[0]).astype('int')"
   ]
  },
  {
   "cell_type": "code",
   "execution_count": 419,
   "id": "9ab7a85e-f944-462e-bed4-ff18a420f672",
   "metadata": {},
   "outputs": [],
   "source": [
    "def create_sequences(data, seq_length):\n",
    "    xs = []\n",
    "    ys = []\n",
    "    for i in range(len(data)-seq_length):\n",
    "        x = data.iloc[i:(i+seq_length)]\n",
    "        y = data.iloc[i+seq_length]\n",
    "        xs.append(x)\n",
    "        ys.append(y)\n",
    "    return np.array(xs), np.array(ys)\n",
    "\n",
    "# Data transformation for supervised learning data.\n",
    "seq_length = 5\n",
    "X, y = create_sequences(daily_cases, seq_length)"
   ]
  },
  {
   "cell_type": "code",
   "execution_count": 420,
   "id": "a2a82fe4-17be-44de-becd-f7d622f3fd66",
   "metadata": {},
   "outputs": [],
   "source": [
    "train_size = int(X.shape[0]*0.8)\n",
    "X_train, y_train = X[:train_size], y[:train_size]\n",
    "X_test, y_test = X[train_size:], y[train_size:]"
   ]
  },
  {
   "cell_type": "code",
   "execution_count": 421,
   "id": "e99791d6-4996-4ede-8169-75cf7e627974",
   "metadata": {},
   "outputs": [],
   "source": [
    "test_size = int(X_test.shape[0]*0.5)\n",
    "X_val, y_val = X_test[test_size:], y_test[test_size:]\n",
    "X_test, y_test = X_test[:test_size], y_test[:test_size]"
   ]
  },
  {
   "cell_type": "code",
   "execution_count": 422,
   "id": "95235ea9-3c34-4aa3-a986-6e6aa02f0da6",
   "metadata": {},
   "outputs": [
    {
     "data": {
      "text/plain": [
       "((261, 5, 1), (33, 5, 1), (33, 5, 1))"
      ]
     },
     "execution_count": 422,
     "metadata": {},
     "output_type": "execute_result"
    }
   ],
   "source": [
    "X_train.shape, X_test.shape, X_val.shape"
   ]
  },
  {
   "cell_type": "code",
   "execution_count": 423,
   "id": "ddeef9de-0c08-4bda-a09f-db1071408a10",
   "metadata": {},
   "outputs": [],
   "source": [
    "MIN = X_train.min()\n",
    "MAX = X_train.max()\n",
    "\n",
    "def MinMaxScale(array, min, max):\n",
    "\n",
    "    return (array - min) / (max - min)\n",
    "\n",
    "# MinMax scaling\n",
    "X_train = MinMaxScale(X_train, MIN, MAX)\n",
    "y_train = MinMaxScale(y_train, MIN, MAX)\n",
    "X_val = MinMaxScale(X_val, MIN, MAX)\n",
    "y_val = MinMaxScale(y_val, MIN, MAX)\n",
    "X_test = MinMaxScale(X_test, MIN, MAX)\n",
    "y_test = MinMaxScale(y_test, MIN, MAX)"
   ]
  },
  {
   "cell_type": "code",
   "execution_count": 424,
   "id": "0b9146e0-58d2-47a1-aab7-90721a9c86fe",
   "metadata": {},
   "outputs": [],
   "source": [
    "class CustomDataset(Dataset):\n",
    "    def __init__(self, data, labels):\n",
    "        self.sequences = data\n",
    "        self.labels = labels\n",
    "        \n",
    "    def __len__(self):\n",
    "        return len(self.sequences)\n",
    "        \n",
    "    def __getitem__(self, idx):\n",
    "        return torch.tensor(self.sequences[idx], dtype=torch.float32), torch.tensor(self.labels[idx], dtype=torch.float32)"
   ]
  },
  {
   "cell_type": "code",
   "execution_count": 425,
   "id": "fccc9869-75e4-46a1-9d18-fd1b664a862a",
   "metadata": {},
   "outputs": [],
   "source": [
    "train_dataset = CustomDataset(X_train, y_train)\n",
    "val_dataset = CustomDataset(X_val, y_val)\n",
    "test_dataset = CustomDataset(X_test, y_test)\n",
    "\n",
    "len(train_dataset), len(test_dataset), len(val_dataset)\n",
    "\n",
    "train_dataloader = DataLoader(train_dataset, batch_size=1, shuffle=True)\n",
    "test_dataloader = DataLoader(test_dataset, batch_size=1, shuffle=False)\n",
    "val_dataloader = DataLoader(val_dataset, batch_size=1, shuffle=False)"
   ]
  },
  {
   "cell_type": "code",
   "execution_count": 442,
   "id": "49eb027d-5636-4485-baef-2868afed1f31",
   "metadata": {},
   "outputs": [],
   "source": [
    "class CNN_LSTM(nn.Module):\n",
    "\n",
    "    def __init__(self, n_features, n_hidden, n_layers):\n",
    "        super(CNN_LSTM, self).__init__()\n",
    "        self.n_features = n_features\n",
    "        self.n_hidden = n_hidden\n",
    "        self.n_layers = n_layers\n",
    "\n",
    "        self.c1 = nn.Conv1d(in_channels=1, out_channels=1, kernel_size=2, stride=1)\n",
    "        self.lstm = nn.LSTM(input_size=n_features, hidden_size=n_hidden, num_layers=n_layers, batch_first=True)\n",
    "        self.linear = nn.Linear(in_features=n_hidden, out_features=1)\n",
    "\n",
    "    # def reset_hidden_state(self, x):\n",
    "    #     self.hidden = (\n",
    "    #         torch.zeros(self.n_layers, x.size(0), self.n_hidden),\n",
    "    #         torch.zeros(self.n_layers, x.size(0), self.n_hidden)\n",
    "    #     )\n",
    "\n",
    "    def forward(self, x):\n",
    "        batch_size = x.shape[0]\n",
    "\n",
    "        x = x.permute(0, 2, 1)  # Swap dimensions for LSTM input\n",
    "        x = self.c1(x)  # Add channel dimension\n",
    "        x = x.permute(0, 2, 1)  # Swap dimensions for LSTM input\n",
    "        \n",
    "        h0 = torch.zeros(self.n_layers, batch_size, self.n_hidden).to(x.device)\n",
    "        c0 = torch.zeros(self.n_layers, batch_size, self.n_hidden).to(x.device)\n",
    "\n",
    "        lstm_out, _ = self.lstm(x)\n",
    "        last_time_step = lstm_out[:, -1, :]\n",
    "        y_pred = self.linear(last_time_step)\n",
    "        \n",
    "        return y_pred"
   ]
  },
  {
   "cell_type": "code",
   "execution_count": 443,
   "id": "246e1ee6-6be4-4107-9db5-50870bf7f1b3",
   "metadata": {},
   "outputs": [],
   "source": [
    "temp = next(iter(train_dataloader))[0]"
   ]
  },
  {
   "cell_type": "code",
   "execution_count": 444,
   "id": "ac759205-b776-41d2-ba3f-b60d67f84600",
   "metadata": {},
   "outputs": [],
   "source": [
    "model = CNN_LSTM(\n",
    "    n_features=1,\n",
    "    n_hidden=4,\n",
    "    n_layers=1\n",
    ")\n",
    "\n",
    "loss_fn = torch.nn.L1Loss()\n",
    "optimizer = torch.optim.Adam(model.parameters(), lr=0.001)"
   ]
  },
  {
   "cell_type": "code",
   "execution_count": 445,
   "id": "5320682e-ce5d-4e32-9ac4-e05ab06c4188",
   "metadata": {},
   "outputs": [],
   "source": [
    "def train_step(model: torch.nn.Module,\n",
    "               dataloader: torch.utils.data.DataLoader,\n",
    "               loss_fn: torch.nn.Module,\n",
    "               optimizer: torch.optim.Optimizer):\n",
    "    # Put model in train mode\n",
    "    model.train()\n",
    "\n",
    "    # Setup train loss and train accuracy values\n",
    "    train_loss, train_acc = 0, 0\n",
    "\n",
    "    # Loop through data loader data batches\n",
    "    for batch, (X, y) in enumerate(dataloader):\n",
    "        # 1. Forward pass\n",
    "        X = X.to(device)\n",
    "        y = y.to(device)\n",
    "        y_pred = model(X)\n",
    "\n",
    "        # 2. Calculate  and accumulate loss\n",
    "        loss = loss_fn(y_pred, y)\n",
    "        train_loss += loss.item()\n",
    "\n",
    "        # 3. Optimizer zero grad\n",
    "        optimizer.zero_grad()\n",
    "\n",
    "        # 4. Loss backward\n",
    "        loss.backward()\n",
    "\n",
    "        # 5. Optimizer step\n",
    "        optimizer.step()\n",
    "\n",
    "        # Calculate and accumulate accuracy metric across all batches\n",
    "        # train_acc += accuracy_fn(y_pred, y)\n",
    "\n",
    "    # Adjust metrics to get average loss and accuracy per batch\n",
    "    train_loss = train_loss / len(dataloader)\n",
    "    # train_acc = train_acc / len(dataloader)\n",
    "    return train_loss, train_acc"
   ]
  },
  {
   "cell_type": "code",
   "execution_count": 446,
   "id": "45cd36ee-8dce-470a-b7aa-11f964f1c2cd",
   "metadata": {},
   "outputs": [],
   "source": [
    "def test_step(model: torch.nn.Module,\n",
    "              dataloader: torch.utils.data.DataLoader,\n",
    "              loss_fn: torch.nn.Module):\n",
    "    # Put model in eval mode\n",
    "    model.eval()\n",
    "\n",
    "    # Setup test loss and test accuracy values\n",
    "    test_loss, test_acc = 0, 0\n",
    "\n",
    "    # Turn on inference context manager\n",
    "    with torch.inference_mode():\n",
    "        # Loop through DataLoader batches\n",
    "        for batch, (X, y) in enumerate(dataloader):\n",
    "            X = X.to(device)\n",
    "            y = y.to(device)\n",
    "            # 1. Forward pass\n",
    "            test_pred_logits = model(X)\n",
    "\n",
    "            # 2. Calculate and accumulate loss\n",
    "            loss = loss_fn(test_pred_logits.squeeze(0), y)\n",
    "            test_loss += loss.item()\n",
    "\n",
    "            # Calculate and accumulate accuracy\n",
    "            # test_acc += accuracy_fn(test_pred_logits, y)\n",
    "\n",
    "    # Adjust metrics to get average loss and accuracy per batch\n",
    "    test_loss = test_loss / len(dataloader)\n",
    "    # test_acc = test_acc / len(dataloader)\n",
    "    return test_loss, test_acc"
   ]
  },
  {
   "cell_type": "code",
   "execution_count": 447,
   "id": "907b2e87-cb15-4c24-8e00-20657d1d6cfb",
   "metadata": {},
   "outputs": [],
   "source": [
    "def train(model: torch.nn.Module,\n",
    "          train_dataloader: torch.utils.data.DataLoader,\n",
    "          test_dataloader: torch.utils.data.DataLoader,\n",
    "          optimizer: torch.optim.Optimizer,\n",
    "          loss_fn: torch.nn.Module,\n",
    "          epochs: int = 5):\n",
    "\n",
    "    # 2. Create empty results dictionary\n",
    "    results = {\"train_loss\": [],\n",
    "        \"train_acc\": [],\n",
    "        \"test_loss\": [],\n",
    "        \"test_acc\": []\n",
    "    }\n",
    "\n",
    "    # 3. Loop through training and testing steps for a number of epochs\n",
    "    for epoch in tqdm(range(epochs)):\n",
    "        train_loss, train_acc = train_step(model=model,\n",
    "                                           dataloader=train_dataloader,\n",
    "                                           loss_fn=loss_fn,\n",
    "                                           optimizer=optimizer)\n",
    "        test_loss, test_acc = test_step(model=model,\n",
    "            dataloader=test_dataloader,\n",
    "            loss_fn=loss_fn)\n",
    "\n",
    "        # 4. Print out what's happening\n",
    "        print(\n",
    "            f\"Epoch: {epoch+1} | \"\n",
    "            f\"train_loss: {train_loss:.4f} | \"\n",
    "            # f\"train_acc: {train_acc:.4f} | \"\n",
    "            f\"test_loss: {test_loss:.4f} | \"\n",
    "            # f\"test_acc: {test_acc:.4f}\"\n",
    "        )\n",
    "\n",
    "        # 5. Update results dictionary\n",
    "        results[\"train_loss\"].append(train_loss)\n",
    "        # results[\"train_acc\"].append(train_acc)\n",
    "        results[\"test_loss\"].append(test_loss)\n",
    "        # results[\"test_acc\"].append(test_acc)\n",
    "\n",
    "    # 6. Return the filled results at the end of the epochs\n",
    "    return results"
   ]
  },
  {
   "cell_type": "code",
   "execution_count": 448,
   "id": "f63b1098-7719-40c4-b263-fa59c667879e",
   "metadata": {},
   "outputs": [
    {
     "data": {
      "application/vnd.jupyter.widget-view+json": {
       "model_id": "15850ee0236e4edebe027e331f0ee162",
       "version_major": 2,
       "version_minor": 0
      },
      "text/plain": [
       "  0%|          | 0/100 [00:00<?, ?it/s]"
      ]
     },
     "metadata": {},
     "output_type": "display_data"
    },
    {
     "name": "stdout",
     "output_type": "stream",
     "text": [
      "Epoch: 1 | train_loss: 0.1106 | test_loss: 0.6233 | \n",
      "Epoch: 2 | train_loss: 0.0815 | test_loss: 0.6189 | \n",
      "Epoch: 3 | train_loss: 0.0787 | test_loss: 0.5675 | \n",
      "Epoch: 4 | train_loss: 0.0725 | test_loss: 0.4995 | \n",
      "Epoch: 5 | train_loss: 0.0607 | test_loss: 0.4329 | \n",
      "Epoch: 6 | train_loss: 0.0447 | test_loss: 0.3013 | \n",
      "Epoch: 7 | train_loss: 0.0362 | test_loss: 0.2553 | \n",
      "Epoch: 8 | train_loss: 0.0370 | test_loss: 0.2406 | \n",
      "Epoch: 9 | train_loss: 0.0353 | test_loss: 0.2280 | \n",
      "Epoch: 10 | train_loss: 0.0346 | test_loss: 0.2138 | \n",
      "Epoch: 11 | train_loss: 0.0348 | test_loss: 0.2154 | \n",
      "Epoch: 12 | train_loss: 0.0353 | test_loss: 0.2011 | \n",
      "Epoch: 13 | train_loss: 0.0337 | test_loss: 0.2015 | \n",
      "Epoch: 14 | train_loss: 0.0347 | test_loss: 0.2266 | \n",
      "Epoch: 15 | train_loss: 0.0335 | test_loss: 0.2061 | \n",
      "Epoch: 16 | train_loss: 0.0333 | test_loss: 0.1884 | \n",
      "Epoch: 17 | train_loss: 0.0341 | test_loss: 0.1972 | \n",
      "Epoch: 18 | train_loss: 0.0341 | test_loss: 0.2008 | \n",
      "Epoch: 19 | train_loss: 0.0341 | test_loss: 0.1881 | \n",
      "Epoch: 20 | train_loss: 0.0335 | test_loss: 0.1844 | \n",
      "Epoch: 21 | train_loss: 0.0334 | test_loss: 0.1605 | \n",
      "Epoch: 22 | train_loss: 0.0341 | test_loss: 0.1862 | \n",
      "Epoch: 23 | train_loss: 0.0337 | test_loss: 0.1755 | \n",
      "Epoch: 24 | train_loss: 0.0326 | test_loss: 0.1703 | \n",
      "Epoch: 25 | train_loss: 0.0329 | test_loss: 0.1476 | \n",
      "Epoch: 26 | train_loss: 0.0334 | test_loss: 0.1648 | \n",
      "Epoch: 27 | train_loss: 0.0337 | test_loss: 0.1826 | \n",
      "Epoch: 28 | train_loss: 0.0328 | test_loss: 0.1609 | \n",
      "Epoch: 29 | train_loss: 0.0332 | test_loss: 0.1612 | \n",
      "Epoch: 30 | train_loss: 0.0325 | test_loss: 0.1468 | \n",
      "Epoch: 31 | train_loss: 0.0320 | test_loss: 0.1509 | \n",
      "Epoch: 32 | train_loss: 0.0322 | test_loss: 0.1450 | \n",
      "Epoch: 33 | train_loss: 0.0321 | test_loss: 0.1514 | \n",
      "Epoch: 34 | train_loss: 0.0326 | test_loss: 0.1519 | \n",
      "Epoch: 35 | train_loss: 0.0312 | test_loss: 0.1389 | \n",
      "Epoch: 36 | train_loss: 0.0326 | test_loss: 0.1539 | \n",
      "Epoch: 37 | train_loss: 0.0318 | test_loss: 0.1385 | \n",
      "Epoch: 38 | train_loss: 0.0324 | test_loss: 0.1527 | \n",
      "Epoch: 39 | train_loss: 0.0318 | test_loss: 0.1661 | \n",
      "Epoch: 40 | train_loss: 0.0323 | test_loss: 0.1448 | \n",
      "Epoch: 41 | train_loss: 0.0323 | test_loss: 0.1593 | \n",
      "Epoch: 42 | train_loss: 0.0318 | test_loss: 0.1614 | \n",
      "Epoch: 43 | train_loss: 0.0330 | test_loss: 0.1548 | \n",
      "Epoch: 44 | train_loss: 0.0317 | test_loss: 0.1667 | \n",
      "Epoch: 45 | train_loss: 0.0330 | test_loss: 0.1615 | \n",
      "Epoch: 46 | train_loss: 0.0325 | test_loss: 0.1443 | \n",
      "Epoch: 47 | train_loss: 0.0320 | test_loss: 0.1691 | \n",
      "Epoch: 48 | train_loss: 0.0317 | test_loss: 0.1533 | \n",
      "Epoch: 49 | train_loss: 0.0320 | test_loss: 0.1543 | \n",
      "Epoch: 50 | train_loss: 0.0320 | test_loss: 0.1558 | \n",
      "Epoch: 51 | train_loss: 0.0320 | test_loss: 0.1516 | \n",
      "Epoch: 52 | train_loss: 0.0320 | test_loss: 0.1669 | \n",
      "Epoch: 53 | train_loss: 0.0317 | test_loss: 0.1463 | \n",
      "Epoch: 54 | train_loss: 0.0318 | test_loss: 0.1613 | \n",
      "Epoch: 55 | train_loss: 0.0324 | test_loss: 0.1620 | \n",
      "Epoch: 56 | train_loss: 0.0318 | test_loss: 0.1545 | \n",
      "Epoch: 57 | train_loss: 0.0318 | test_loss: 0.1400 | \n",
      "Epoch: 58 | train_loss: 0.0324 | test_loss: 0.1527 | \n",
      "Epoch: 59 | train_loss: 0.0320 | test_loss: 0.1427 | \n",
      "Epoch: 60 | train_loss: 0.0316 | test_loss: 0.1519 | \n",
      "Epoch: 61 | train_loss: 0.0316 | test_loss: 0.1498 | \n",
      "Epoch: 62 | train_loss: 0.0320 | test_loss: 0.1498 | \n",
      "Epoch: 63 | train_loss: 0.0314 | test_loss: 0.1560 | \n",
      "Epoch: 64 | train_loss: 0.0319 | test_loss: 0.1509 | \n",
      "Epoch: 65 | train_loss: 0.0316 | test_loss: 0.1553 | \n",
      "Epoch: 66 | train_loss: 0.0310 | test_loss: 0.1414 | \n",
      "Epoch: 67 | train_loss: 0.0322 | test_loss: 0.1497 | \n",
      "Epoch: 68 | train_loss: 0.0323 | test_loss: 0.1541 | \n",
      "Epoch: 69 | train_loss: 0.0323 | test_loss: 0.1420 | \n",
      "Epoch: 70 | train_loss: 0.0314 | test_loss: 0.1355 | \n",
      "Epoch: 71 | train_loss: 0.0320 | test_loss: 0.1545 | \n",
      "Epoch: 72 | train_loss: 0.0316 | test_loss: 0.1768 | \n",
      "Epoch: 73 | train_loss: 0.0325 | test_loss: 0.1371 | \n",
      "Epoch: 74 | train_loss: 0.0315 | test_loss: 0.1651 | \n",
      "Epoch: 75 | train_loss: 0.0323 | test_loss: 0.1400 | \n",
      "Epoch: 76 | train_loss: 0.0315 | test_loss: 0.1514 | \n",
      "Epoch: 77 | train_loss: 0.0317 | test_loss: 0.1812 | \n",
      "Epoch: 78 | train_loss: 0.0321 | test_loss: 0.1603 | \n",
      "Epoch: 79 | train_loss: 0.0319 | test_loss: 0.1571 | \n",
      "Epoch: 80 | train_loss: 0.0321 | test_loss: 0.1433 | \n",
      "Epoch: 81 | train_loss: 0.0320 | test_loss: 0.1305 | \n",
      "Epoch: 82 | train_loss: 0.0324 | test_loss: 0.1443 | \n",
      "Epoch: 83 | train_loss: 0.0314 | test_loss: 0.1785 | \n",
      "Epoch: 84 | train_loss: 0.0321 | test_loss: 0.1537 | \n",
      "Epoch: 85 | train_loss: 0.0318 | test_loss: 0.1597 | \n",
      "Epoch: 86 | train_loss: 0.0315 | test_loss: 0.1468 | \n",
      "Epoch: 87 | train_loss: 0.0315 | test_loss: 0.1671 | \n",
      "Epoch: 88 | train_loss: 0.0314 | test_loss: 0.1526 | \n",
      "Epoch: 89 | train_loss: 0.0319 | test_loss: 0.1435 | \n",
      "Epoch: 90 | train_loss: 0.0317 | test_loss: 0.1527 | \n",
      "Epoch: 91 | train_loss: 0.0319 | test_loss: 0.1381 | \n",
      "Epoch: 92 | train_loss: 0.0313 | test_loss: 0.1396 | \n",
      "Epoch: 93 | train_loss: 0.0320 | test_loss: 0.1601 | \n",
      "Epoch: 94 | train_loss: 0.0310 | test_loss: 0.1331 | \n",
      "Epoch: 95 | train_loss: 0.0315 | test_loss: 0.1446 | \n",
      "Epoch: 96 | train_loss: 0.0315 | test_loss: 0.1328 | \n",
      "Epoch: 97 | train_loss: 0.0321 | test_loss: 0.1663 | \n",
      "Epoch: 98 | train_loss: 0.0313 | test_loss: 0.1479 | \n",
      "Epoch: 99 | train_loss: 0.0324 | test_loss: 0.1465 | \n",
      "Epoch: 100 | train_loss: 0.0320 | test_loss: 0.1634 | \n",
      "Total training time: 81.880 seconds\n"
     ]
    }
   ],
   "source": [
    "# Set random seeds\n",
    "torch.manual_seed(42)\n",
    "\n",
    "# Set number of epochs\n",
    "NUM_EPOCHS = 100\n",
    "\n",
    "# Start the timer\n",
    "from timeit import default_timer as timer\n",
    "start_time = timer()\n",
    "\n",
    "# Train model_0\n",
    "model_0_results = train(model=model,\n",
    "                        train_dataloader=train_dataloader,\n",
    "                        test_dataloader=val_dataloader,\n",
    "                        optimizer=optimizer,\n",
    "                        loss_fn=loss_fn,\n",
    "                        epochs=NUM_EPOCHS)\n",
    "\n",
    "# End the timer and print out how long it took\n",
    "end_time = timer()\n",
    "print(f\"Total training time: {end_time-start_time:.3f} seconds\")"
   ]
  },
  {
   "cell_type": "code",
   "execution_count": 453,
   "id": "08f4f4eb-7b09-4f41-8395-b464f93c2ef0",
   "metadata": {},
   "outputs": [
    {
     "data": {
      "text/plain": [
       "<matplotlib.legend.Legend at 0x7f39581d0f10>"
      ]
     },
     "execution_count": 453,
     "metadata": {},
     "output_type": "execute_result"
    },
    {
     "data": {
      "image/png": "[encoded data removed]",
      "text/plain": [
       "<Figure size 640x480 with 1 Axes>"
      ]
     },
     "metadata": {},
     "output_type": "display_data"
    }
   ],
   "source": [
    "plt.plot(model_0_results[\"train_loss\"], label=\"Training loss\")\n",
    "plt.plot(model_0_results[\"test_loss\"], label=\"Val loss\")\n",
    "plt.legend()"
   ]
  },
  {
   "cell_type": "code",
   "execution_count": 454,
   "id": "dd93bdd2-5c2f-43a6-a4d4-eb2cc70537c7",
   "metadata": {},
   "outputs": [],
   "source": [
    "def predict(sample):\n",
    "    model.eval()\n",
    "    \n",
    "    with torch.inference_mode():\n",
    "    \n",
    "        y_pred = model(sample)\n",
    "        # pred_prob = torch.softmax(pred_logits.squeeze(), dim=0)\n",
    "        # pred_prob = torch.sigmoid(pred_logits.squeeze())\n",
    "\n",
    "        return y_pred"
   ]
  },
  {
   "cell_type": "code",
   "execution_count": 455,
   "id": "9c3dd71d-2e35-4d01-8642-a46cc418c4df",
   "metadata": {},
   "outputs": [],
   "source": [
    "preds = []\n",
    "for X, y in val_dataloader:\n",
    "    y_pred = predict(X)\n",
    "    preds.append(y_pred.flatten().item())\n",
    "    "
   ]
  },
  {
   "cell_type": "code",
   "execution_count": 456,
   "id": "7b95a485-1201-4213-8fc9-5560edd391f5",
   "metadata": {},
   "outputs": [
    {
     "data": {
      "text/plain": [
       "<matplotlib.legend.Legend at 0x7f39580d7f50>"
      ]
     },
     "execution_count": 456,
     "metadata": {},
     "output_type": "execute_result"
    },
    {
     "data": {
      "image/png": "[encoded data removed]",
      "text/plain": [
       "<Figure size 640x480 with 1 Axes>"
      ]
     },
     "metadata": {},
     "output_type": "display_data"
    }
   ],
   "source": [
    "plt.plot(np.array([i[1].flatten().item() for i in val_dataloader])*MAX, label = 'True')\n",
    "plt.plot(np.array(preds)*MAX, label = 'Pred')\n",
    "plt.legend()"
   ]
  },
  {
   "cell_type": "code",
   "execution_count": null,
   "id": "8f22171c-9a16-40dc-8198-14536b89ea63",
   "metadata": {},
   "outputs": [],
   "source": []
  },
  {
   "cell_type": "code",
   "execution_count": 437,
   "id": "2c288dbc-ca47-4ed7-ac88-47947b684b81",
   "metadata": {},
   "outputs": [],
   "source": [
    "# class CNN_LSTM(nn.Module):\n",
    "#     def __init__(self, n_features, n_hidden, seq_len, n_layers):\n",
    "#         super(CNN_LSTM, self).__init__()\n",
    "#         self.n_hidden = n_hidden\n",
    "#         self.seq_len = seq_len\n",
    "#         self.n_layers = n_layers\n",
    "\n",
    "#         self.c1 = nn.Conv1d(in_channels=1, out_channels=1, kernel_size=2, stride=1)\n",
    "        \n",
    "#         self.lstm = nn.LSTM(\n",
    "#             input_size=n_features,  # Adjusted for Conv1D reduction\n",
    "#             hidden_size=n_hidden,\n",
    "#             num_layers=n_layers,\n",
    "#             batch_first=True\n",
    "#         )\n",
    "\n",
    "#         self.linear = nn.Linear(in_features=n_hidden, out_features=1)\n",
    "\n",
    "#     def forward(self, sequences):\n",
    "#         batch_size = sequences.shape[0]\n",
    "\n",
    "#         # Conv1D expects (batch, channels, seq_len), LSTM expects (batch, seq_len, features)\n",
    "#         sequences = sequences.permute(0, 2, 1)  # Swap dimensions for LSTM input\n",
    "#         # sequences = self.c1(sequences.view(batch_size, 1, -1))  # Add channel dimension\n",
    "#         sequences = self.c1(sequences)  # Add channel dimension\n",
    "#         sequences = sequences.permute(0, 2, 1)  # Swap dimensions for LSTM input\n",
    "        \n",
    "#         # Initialize hidden state dynamically\n",
    "#         h_0 = torch.zeros(self.n_layers, batch_size, self.n_hidden).to(sequences.device)\n",
    "#         c_0 = torch.zeros(self.n_layers, batch_size, self.n_hidden).to(sequences.device)\n",
    "\n",
    "#         lstm_out, _ = self.lstm(sequences, (h_0, c_0))\n",
    "\n",
    "#         # Take last timestep output\n",
    "#         last_time_step = lstm_out[:, -1, :]\n",
    "#         y_pred = self.linear(last_time_step)\n",
    "#         return y_pred"
   ]
  },
  {
   "cell_type": "code",
   "execution_count": null,
   "id": "dc11c266-35de-4fdc-b7ad-30e6b55d7e11",
   "metadata": {},
   "outputs": [],
   "source": []
  }
 ],
 "metadata": {
  "kernelspec": {
   "display_name": "Python 3 (ipykernel)",
   "language": "python",
   "name": "python3"
  },
  "language_info": {
   "codemirror_mode": {
    "name": "ipython",
    "version": 3
   },
   "file_extension": ".py",
   "mimetype": "text/x-python",
   "name": "python",
   "nbconvert_exporter": "python",
   "pygments_lexer": "ipython3",
   "version": "3.11.7"
  }
 },
 "nbformat": 4,
 "nbformat_minor": 5
}

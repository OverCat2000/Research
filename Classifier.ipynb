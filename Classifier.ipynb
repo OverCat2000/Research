{
 "cells": [
  {
   "cell_type": "code",
   "execution_count": 1,
   "id": "28d23f00-ac13-47f8-a563-1492018bf1fb",
   "metadata": {},
   "outputs": [],
   "source": [
    "import pickle\n",
    "import numpy as np"
   ]
  },
  {
   "cell_type": "code",
   "execution_count": 2,
   "id": "64b594b9-65fe-46c9-bc54-32b6d5b44cfc",
   "metadata": {},
   "outputs": [],
   "source": [
    "with open('synthetic_data.pkl', 'rb') as f:\n",
    "    dataset = pickle.load(f)"
   ]
  },
  {
   "cell_type": "code",
   "execution_count": 3,
   "id": "b88beb13-9c3b-4a64-84bc-82045f45a33a",
   "metadata": {},
   "outputs": [],
   "source": [
    "X, y = dataset"
   ]
  },
  {
   "cell_type": "code",
   "execution_count": 7,
   "id": "b44220be-721a-4083-88bc-d05ea4a60810",
   "metadata": {},
   "outputs": [
    {
     "data": {
      "text/plain": [
       "((518, 11, 4), (518,))"
      ]
     },
     "execution_count": 7,
     "metadata": {},
     "output_type": "execute_result"
    }
   ],
   "source": [
    "X.shape, y.shape"
   ]
  },
  {
   "cell_type": "code",
   "execution_count": null,
   "id": "1925b520-9b85-4427-a4e4-e007b4181a21",
   "metadata": {},
   "outputs": [],
   "source": []
  }
 ],
 "metadata": {
  "kernelspec": {
   "display_name": "Python 3 (ipykernel)",
   "language": "python",
   "name": "python3"
  },
  "language_info": {
   "codemirror_mode": {
    "name": "ipython",
    "version": 3
   },
   "file_extension": ".py",
   "mimetype": "text/x-python",
   "name": "python",
   "nbconvert_exporter": "python",
   "pygments_lexer": "ipython3",
   "version": "3.12.1"
  }
 },
 "nbformat": 4,
 "nbformat_minor": 5
}

{
 "cells": [
  {
   "cell_type": "code",
   "execution_count": 4,
   "id": "9fde08d4-ec76-4bfb-9170-19c93b0a8b5b",
   "metadata": {},
   "outputs": [],
   "source": [
    "import pickle\n",
    "import numpy as np\n",
    "import pandas as pd\n",
    "\n",
    "from sklearn.model_selection import train_test_split, GridSearchCV, KFold\n",
    "from sklearn.ensemble import RandomForestClassifier\n",
    "from sklearn.metrics import accuracy_score\n",
    "from sklearn.preprocessing import MinMaxScaler"
   ]
  },
  {
   "cell_type": "code",
   "execution_count": 5,
   "id": "d4de353b-299e-4785-85af-21d2971ef9ce",
   "metadata": {},
   "outputs": [],
   "source": [
    "with open(\"synthetic_data.pkl\" , 'rb') as f:\n",
    "    dataset = pickle.load(f)"
   ]
  },
  {
   "cell_type": "code",
   "execution_count": 6,
   "id": "4cd81be1-c5cc-4202-b0d4-b171f232bcfa",
   "metadata": {},
   "outputs": [],
   "source": [
    "features, labels = dataset"
   ]
  },
  {
   "cell_type": "code",
   "execution_count": 7,
   "id": "4fac6d42-0598-4b2f-988b-ca8504ba2862",
   "metadata": {},
   "outputs": [
    {
     "data": {
      "text/plain": [
       "(array(['Advance Block', 'Engulfing Bearish', 'Engulfing Bullish',\n",
       "        'Evening Star', 'Hammer', 'Hanging Man', 'Morning Star'],\n",
       "       dtype='<U17'),\n",
       " array([  47, 2110, 1880,    5,  282,  658,    7]))"
      ]
     },
     "execution_count": 7,
     "metadata": {},
     "output_type": "execute_result"
    }
   ],
   "source": [
    "np.unique(labels, return_counts=True)"
   ]
  },
  {
   "cell_type": "code",
   "execution_count": 8,
   "id": "49c539e1-8a21-4859-bcd0-d85614ad5416",
   "metadata": {},
   "outputs": [],
   "source": [
    "X = features.reshape(features.shape[0], -1)"
   ]
  },
  {
   "cell_type": "code",
   "execution_count": 9,
   "id": "5baa5e3a-6b29-4969-a618-94e2cff52666",
   "metadata": {},
   "outputs": [],
   "source": [
    "y = (labels == 'Engulfing Bearish').astype(int)"
   ]
  },
  {
   "cell_type": "code",
   "execution_count": 10,
   "id": "fbe446a8-36b5-4249-b205-860238cf5a3a",
   "metadata": {},
   "outputs": [],
   "source": [
    "scaler = MinMaxScaler()"
   ]
  },
  {
   "cell_type": "code",
   "execution_count": 11,
   "id": "49bb5414-7b59-4e72-bd1d-a294ba7fd856",
   "metadata": {},
   "outputs": [
    {
     "data": {
      "text/plain": [
       "((3741, 44), (1248, 44), (3741,), (1248,))"
      ]
     },
     "execution_count": 11,
     "metadata": {},
     "output_type": "execute_result"
    }
   ],
   "source": [
    "X_train, X_test, y_train, y_test = train_test_split(X, y)\n",
    "\n",
    "X_train.shape, X_test.shape, y_train.shape, y_test.shape"
   ]
  },
  {
   "cell_type": "code",
   "execution_count": 12,
   "id": "ede8f4ee-053d-4b85-8252-9d964f41cd6c",
   "metadata": {},
   "outputs": [],
   "source": [
    "X_train = scaler.fit_transform(X_train)\n",
    "X_test = scaler.transform(X_test)"
   ]
  },
  {
   "cell_type": "code",
   "execution_count": 20,
   "id": "37fc97c3-c82f-4c03-ab7a-bdc578212ea7",
   "metadata": {},
   "outputs": [],
   "source": [
    "with open(\"scaler.pkl\", 'wb') as f:\n",
    "    pickle.dump(scaler, f)"
   ]
  },
  {
   "cell_type": "code",
   "execution_count": 13,
   "id": "df1a9a76-4245-42a0-93cf-bc056b465c2d",
   "metadata": {},
   "outputs": [
    {
     "data": {
      "text/plain": [
       "(0.8461538461538461, 0.9906442127773323)"
      ]
     },
     "execution_count": 13,
     "metadata": {},
     "output_type": "execute_result"
    }
   ],
   "source": [
    "clf = RandomForestClassifier(random_state=42)\n",
    "\n",
    "clf.fit(X_train, y_train)\n",
    "\n",
    "pred = clf.predict(X_test)\n",
    "pred_train = clf.predict(X_train)\n",
    "\n",
    "accuracy_score(y_test, pred), accuracy_score(y_train, pred_train)"
   ]
  },
  {
   "cell_type": "code",
   "execution_count": 14,
   "id": "6f5aacf2-cda3-4c08-8617-8197a2c40a98",
   "metadata": {},
   "outputs": [
    {
     "name": "stdout",
     "output_type": "stream",
     "text": [
      "Fitting 5 folds for each of 36 candidates, totalling 180 fits\n",
      "[CV 1/5] END max_depth=5, max_features=sqrt, min_samples_split=2, n_estimators=100;, score=0.677 total time=   1.1s\n",
      "[CV 4/5] END max_depth=5, max_features=sqrt, min_samples_split=2, n_estimators=100;, score=0.655 total time=   1.0s\n",
      "[CV 1/5] END max_depth=5, max_features=sqrt, min_samples_split=2, n_estimators=200;, score=0.677 total time=   2.2s\n",
      "[CV 3/5] END max_depth=5, max_features=sqrt, min_samples_split=2, n_estimators=200;, score=0.735 total time=   2.3s\n",
      "[CV 5/5] END max_depth=5, max_features=sqrt, min_samples_split=2, n_estimators=200;, score=0.664 total time=   2.3s\n",
      "[CV 2/5] END max_depth=5, max_features=sqrt, min_samples_split=2, n_estimators=300;, score=0.721 total time=   3.2s\n",
      "[CV 4/5] END max_depth=5, max_features=sqrt, min_samples_split=2, n_estimators=300;, score=0.659 total time=   3.3s\n",
      "[CV 1/5] END max_depth=5, max_features=sqrt, min_samples_split=5, n_estimators=100;, score=0.672 total time=   1.1s\n",
      "[CV 2/5] END max_depth=5, max_features=sqrt, min_samples_split=5, n_estimators=100;, score=0.729 total time=   1.2s\n",
      "[CV 4/5] END max_depth=5, max_features=sqrt, min_samples_split=5, n_estimators=100;, score=0.652 total time=   1.0s\n",
      "[CV 1/5] END max_depth=5, max_features=sqrt, min_samples_split=5, n_estimators=200;, score=0.673 total time=   2.2s\n",
      "[CV 3/5] END max_depth=5, max_features=sqrt, min_samples_split=5, n_estimators=200;, score=0.731 total time=   2.1s\n",
      "[CV 5/5] END max_depth=5, max_features=sqrt, min_samples_split=5, n_estimators=200;, score=0.663 total time=   2.2s\n",
      "[CV 2/5] END max_depth=5, max_features=sqrt, min_samples_split=5, n_estimators=300;, score=0.723 total time=   3.4s\n",
      "[CV 4/5] END max_depth=5, max_features=sqrt, min_samples_split=5, n_estimators=300;, score=0.659 total time=   3.3s\n",
      "[CV 1/5] END max_depth=5, max_features=log2, min_samples_split=2, n_estimators=100;, score=0.673 total time=   0.9s\n",
      "[CV 2/5] END max_depth=5, max_features=log2, min_samples_split=2, n_estimators=100;, score=0.722 total time=   0.9s\n",
      "[CV 4/5] END max_depth=5, max_features=log2, min_samples_split=2, n_estimators=100;, score=0.648 total time=   0.9s\n",
      "[CV 1/5] END max_depth=5, max_features=log2, min_samples_split=2, n_estimators=200;, score=0.672 total time=   2.0s\n",
      "[CV 3/5] END max_depth=5, max_features=log2, min_samples_split=2, n_estimators=200;, score=0.722 total time=   2.0s\n",
      "[CV 5/5] END max_depth=5, max_features=log2, min_samples_split=2, n_estimators=200;, score=0.658 total time=   1.8s\n",
      "[CV 2/5] END max_depth=5, max_features=log2, min_samples_split=2, n_estimators=300;, score=0.719 total time=   2.9s\n",
      "[CV 4/5] END max_depth=5, max_features=log2, min_samples_split=2, n_estimators=300;, score=0.651 total time=   2.7s\n",
      "[CV 1/5] END max_depth=5, max_features=log2, min_samples_split=5, n_estimators=100;, score=0.666 total time=   1.0s\n",
      "[CV 2/5] END max_depth=5, max_features=log2, min_samples_split=5, n_estimators=100;, score=0.718 total time=   1.1s\n",
      "[CV 4/5] END max_depth=5, max_features=log2, min_samples_split=5, n_estimators=100;, score=0.635 total time=   0.9s\n",
      "[CV 1/5] END max_depth=5, max_features=log2, min_samples_split=5, n_estimators=200;, score=0.662 total time=   1.8s\n",
      "[CV 3/5] END max_depth=5, max_features=log2, min_samples_split=5, n_estimators=200;, score=0.721 total time=   1.9s\n",
      "[CV 5/5] END max_depth=5, max_features=log2, min_samples_split=5, n_estimators=200;, score=0.659 total time=   1.8s\n",
      "[CV 2/5] END max_depth=5, max_features=log2, min_samples_split=5, n_estimators=300;, score=0.718 total time=   2.9s\n",
      "[CV 4/5] END max_depth=5, max_features=log2, min_samples_split=5, n_estimators=300;, score=0.648 total time=   3.1s\n",
      "[CV 1/5] END max_depth=10, max_features=sqrt, min_samples_split=2, n_estimators=100;, score=0.754 total time=   1.7s\n",
      "[CV 3/5] END max_depth=10, max_features=sqrt, min_samples_split=2, n_estimators=100;, score=0.794 total time=   1.8s\n",
      "[CV 5/5] END max_depth=10, max_features=sqrt, min_samples_split=2, n_estimators=100;, score=0.758 total time=   1.7s\n",
      "[CV 2/5] END max_depth=10, max_features=sqrt, min_samples_split=2, n_estimators=200;, score=0.779 total time=   3.7s\n",
      "[CV 4/5] END max_depth=10, max_features=sqrt, min_samples_split=2, n_estimators=200;, score=0.723 total time=   3.8s\n",
      "[CV 1/5] END max_depth=10, max_features=sqrt, min_samples_split=2, n_estimators=300;, score=0.754 total time=   5.2s\n",
      "[CV 3/5] END max_depth=10, max_features=sqrt, min_samples_split=2, n_estimators=300;, score=0.807 total time=   5.3s\n",
      "[CV 5/5] END max_depth=10, max_features=sqrt, min_samples_split=2, n_estimators=300;, score=0.754 total time=   5.2s\n",
      "[CV 3/5] END max_depth=10, max_features=sqrt, min_samples_split=5, n_estimators=100;, score=0.795 total time=   1.9s\n",
      "[CV 5/5] END max_depth=10, max_features=sqrt, min_samples_split=5, n_estimators=100;, score=0.759 total time=   1.8s\n",
      "[CV 2/5] END max_depth=10, max_features=sqrt, min_samples_split=5, n_estimators=200;, score=0.791 total time=   3.3s\n",
      "[CV 4/5] END max_depth=10, max_features=sqrt, min_samples_split=5, n_estimators=200;, score=0.733 total time=   3.6s\n",
      "[CV 1/5] END max_depth=10, max_features=sqrt, min_samples_split=5, n_estimators=300;, score=0.760 total time=   5.3s\n",
      "[CV 3/5] END max_depth=10, max_features=sqrt, min_samples_split=5, n_estimators=300;, score=0.811 total time=   5.3s\n",
      "[CV 5/5] END max_depth=10, max_features=sqrt, min_samples_split=5, n_estimators=300;, score=0.758 total time=   5.4s\n",
      "[CV 3/5] END max_depth=10, max_features=log2, min_samples_split=2, n_estimators=100;, score=0.790 total time=   1.5s\n",
      "[CV 5/5] END max_depth=10, max_features=log2, min_samples_split=2, n_estimators=100;, score=0.749 total time=   1.5s\n",
      "[CV 2/5] END max_depth=10, max_features=log2, min_samples_split=2, n_estimators=200;, score=0.782 total time=   3.1s\n",
      "[CV 4/5] END max_depth=10, max_features=log2, min_samples_split=2, n_estimators=200;, score=0.735 total time=   3.3s\n",
      "[CV 1/5] END max_depth=10, max_features=log2, min_samples_split=2, n_estimators=300;, score=0.762 total time=   4.4s\n",
      "[CV 3/5] END max_depth=10, max_features=log2, min_samples_split=2, n_estimators=300;, score=0.794 total time=   4.6s\n",
      "[CV 5/5] END max_depth=10, max_features=log2, min_samples_split=2, n_estimators=300;, score=0.743 total time=   4.4s\n",
      "[CV 3/5] END max_depth=10, max_features=log2, min_samples_split=5, n_estimators=100;, score=0.795 total time=   1.5s\n",
      "[CV 5/5] END max_depth=10, max_features=log2, min_samples_split=5, n_estimators=100;, score=0.759 total time=   1.5s\n",
      "[CV 2/5] END max_depth=10, max_features=log2, min_samples_split=5, n_estimators=200;, score=0.775 total time=   3.1s\n",
      "[CV 4/5] END max_depth=10, max_features=log2, min_samples_split=5, n_estimators=200;, score=0.717 total time=   3.1s\n",
      "[CV 1/5] END max_depth=10, max_features=log2, min_samples_split=5, n_estimators=300;, score=0.757 total time=   4.4s\n",
      "[CV 3/5] END max_depth=10, max_features=log2, min_samples_split=5, n_estimators=300;, score=0.791 total time=   4.6s\n",
      "[CV 5/5] END max_depth=10, max_features=log2, min_samples_split=5, n_estimators=300;, score=0.753 total time=   4.4s\n",
      "[CV 2/5] END max_depth=15, max_features=sqrt, min_samples_split=2, n_estimators=100;, score=0.814 total time=   2.2s\n",
      "[CV 4/5] END max_depth=15, max_features=sqrt, min_samples_split=2, n_estimators=100;, score=0.761 total time=   2.3s\n",
      "[CV 1/5] END max_depth=15, max_features=sqrt, min_samples_split=2, n_estimators=200;, score=0.800 total time=   4.2s\n",
      "[CV 3/5] END max_depth=15, max_features=sqrt, min_samples_split=2, n_estimators=200;, score=0.814 total time=   4.2s\n",
      "[CV 5/5] END max_depth=15, max_features=sqrt, min_samples_split=2, n_estimators=200;, score=0.820 total time=   4.4s\n",
      "[CV 2/5] END max_depth=15, max_features=sqrt, min_samples_split=2, n_estimators=300;, score=0.817 total time=   6.4s\n",
      "[CV 4/5] END max_depth=15, max_features=sqrt, min_samples_split=2, n_estimators=300;, score=0.758 total time=   6.8s\n",
      "[CV 1/5] END max_depth=15, max_features=sqrt, min_samples_split=5, n_estimators=100;, score=0.782 total time=   2.0s\n",
      "[CV 2/5] END max_depth=15, max_features=sqrt, min_samples_split=5, n_estimators=100;, score=0.817 total time=   2.3s\n",
      "[CV 4/5] END max_depth=15, max_features=sqrt, min_samples_split=5, n_estimators=100;, score=0.770 total time=   2.2s\n",
      "[CV 2/5] END max_depth=5, max_features=sqrt, min_samples_split=2, n_estimators=100;, score=0.726 total time=   1.1s\n",
      "[CV 3/5] END max_depth=5, max_features=sqrt, min_samples_split=2, n_estimators=100;, score=0.733 total time=   1.0s\n",
      "[CV 5/5] END max_depth=5, max_features=sqrt, min_samples_split=2, n_estimators=100;, score=0.658 total time=   1.2s\n",
      "[CV 2/5] END max_depth=5, max_features=sqrt, min_samples_split=2, n_estimators=200;, score=0.727 total time=   2.1s\n",
      "[CV 4/5] END max_depth=5, max_features=sqrt, min_samples_split=2, n_estimators=200;, score=0.656 total time=   2.3s\n",
      "[CV 1/5] END max_depth=5, max_features=sqrt, min_samples_split=2, n_estimators=300;, score=0.681 total time=   3.2s\n",
      "[CV 3/5] END max_depth=5, max_features=sqrt, min_samples_split=2, n_estimators=300;, score=0.733 total time=   3.2s\n",
      "[CV 5/5] END max_depth=5, max_features=sqrt, min_samples_split=2, n_estimators=300;, score=0.666 total time=   3.3s\n",
      "[CV 3/5] END max_depth=5, max_features=sqrt, min_samples_split=5, n_estimators=100;, score=0.735 total time=   1.1s\n",
      "[CV 5/5] END max_depth=5, max_features=sqrt, min_samples_split=5, n_estimators=100;, score=0.656 total time=   1.1s\n",
      "[CV 2/5] END max_depth=5, max_features=sqrt, min_samples_split=5, n_estimators=200;, score=0.726 total time=   2.1s\n",
      "[CV 4/5] END max_depth=5, max_features=sqrt, min_samples_split=5, n_estimators=200;, score=0.654 total time=   2.2s\n",
      "[CV 1/5] END max_depth=5, max_features=sqrt, min_samples_split=5, n_estimators=300;, score=0.672 total time=   3.3s\n",
      "[CV 3/5] END max_depth=5, max_features=sqrt, min_samples_split=5, n_estimators=300;, score=0.731 total time=   3.2s\n",
      "[CV 5/5] END max_depth=5, max_features=sqrt, min_samples_split=5, n_estimators=300;, score=0.666 total time=   3.2s\n",
      "[CV 3/5] END max_depth=5, max_features=log2, min_samples_split=2, n_estimators=100;, score=0.731 total time=   0.9s\n",
      "[CV 5/5] END max_depth=5, max_features=log2, min_samples_split=2, n_estimators=100;, score=0.659 total time=   0.9s\n",
      "[CV 2/5] END max_depth=5, max_features=log2, min_samples_split=2, n_estimators=200;, score=0.726 total time=   1.9s\n",
      "[CV 4/5] END max_depth=5, max_features=log2, min_samples_split=2, n_estimators=200;, score=0.654 total time=   2.0s\n",
      "[CV 1/5] END max_depth=5, max_features=log2, min_samples_split=2, n_estimators=300;, score=0.676 total time=   2.8s\n",
      "[CV 3/5] END max_depth=5, max_features=log2, min_samples_split=2, n_estimators=300;, score=0.718 total time=   2.7s\n",
      "[CV 5/5] END max_depth=5, max_features=log2, min_samples_split=2, n_estimators=300;, score=0.663 total time=   2.9s\n",
      "[CV 3/5] END max_depth=5, max_features=log2, min_samples_split=5, n_estimators=100;, score=0.731 total time=   1.0s\n",
      "[CV 5/5] END max_depth=5, max_features=log2, min_samples_split=5, n_estimators=100;, score=0.658 total time=   0.9s\n",
      "[CV 2/5] END max_depth=5, max_features=log2, min_samples_split=5, n_estimators=200;, score=0.721 total time=   1.9s\n",
      "[CV 4/5] END max_depth=5, max_features=log2, min_samples_split=5, n_estimators=200;, score=0.646 total time=   1.9s\n",
      "[CV 1/5] END max_depth=5, max_features=log2, min_samples_split=5, n_estimators=300;, score=0.666 total time=   2.8s\n",
      "[CV 3/5] END max_depth=5, max_features=log2, min_samples_split=5, n_estimators=300;, score=0.721 total time=   3.1s\n",
      "[CV 5/5] END max_depth=5, max_features=log2, min_samples_split=5, n_estimators=300;, score=0.662 total time=   2.8s\n",
      "[CV 2/5] END max_depth=10, max_features=sqrt, min_samples_split=2, n_estimators=100;, score=0.789 total time=   1.8s\n",
      "[CV 4/5] END max_depth=10, max_features=sqrt, min_samples_split=2, n_estimators=100;, score=0.713 total time=   1.7s\n",
      "[CV 1/5] END max_depth=10, max_features=sqrt, min_samples_split=2, n_estimators=200;, score=0.754 total time=   3.7s\n",
      "[CV 3/5] END max_depth=10, max_features=sqrt, min_samples_split=2, n_estimators=200;, score=0.806 total time=   3.5s\n",
      "[CV 5/5] END max_depth=10, max_features=sqrt, min_samples_split=2, n_estimators=200;, score=0.755 total time=   3.5s\n",
      "[CV 2/5] END max_depth=10, max_features=sqrt, min_samples_split=2, n_estimators=300;, score=0.786 total time=   5.3s\n",
      "[CV 4/5] END max_depth=10, max_features=sqrt, min_samples_split=2, n_estimators=300;, score=0.726 total time=   5.3s\n",
      "[CV 1/5] END max_depth=10, max_features=sqrt, min_samples_split=5, n_estimators=100;, score=0.760 total time=   1.7s\n",
      "[CV 2/5] END max_depth=10, max_features=sqrt, min_samples_split=5, n_estimators=100;, score=0.801 total time=   1.8s\n",
      "[CV 4/5] END max_depth=10, max_features=sqrt, min_samples_split=5, n_estimators=100;, score=0.731 total time=   1.8s\n",
      "[CV 1/5] END max_depth=10, max_features=sqrt, min_samples_split=5, n_estimators=200;, score=0.753 total time=   3.4s\n",
      "[CV 3/5] END max_depth=10, max_features=sqrt, min_samples_split=5, n_estimators=200;, score=0.810 total time=   3.6s\n",
      "[CV 5/5] END max_depth=10, max_features=sqrt, min_samples_split=5, n_estimators=200;, score=0.761 total time=   3.6s\n",
      "[CV 2/5] END max_depth=10, max_features=sqrt, min_samples_split=5, n_estimators=300;, score=0.790 total time=   5.2s\n",
      "[CV 4/5] END max_depth=10, max_features=sqrt, min_samples_split=5, n_estimators=300;, score=0.731 total time=   5.4s\n",
      "[CV 1/5] END max_depth=10, max_features=log2, min_samples_split=2, n_estimators=100;, score=0.754 total time=   1.4s\n",
      "[CV 2/5] END max_depth=10, max_features=log2, min_samples_split=2, n_estimators=100;, score=0.791 total time=   1.6s\n",
      "[CV 4/5] END max_depth=10, max_features=log2, min_samples_split=2, n_estimators=100;, score=0.737 total time=   1.5s\n",
      "[CV 1/5] END max_depth=10, max_features=log2, min_samples_split=2, n_estimators=200;, score=0.758 total time=   3.1s\n",
      "[CV 3/5] END max_depth=10, max_features=log2, min_samples_split=2, n_estimators=200;, score=0.795 total time=   3.0s\n",
      "[CV 5/5] END max_depth=10, max_features=log2, min_samples_split=2, n_estimators=200;, score=0.747 total time=   3.0s\n",
      "[CV 2/5] END max_depth=10, max_features=log2, min_samples_split=2, n_estimators=300;, score=0.783 total time=   4.7s\n",
      "[CV 4/5] END max_depth=10, max_features=log2, min_samples_split=2, n_estimators=300;, score=0.737 total time=   4.7s\n",
      "[CV 1/5] END max_depth=10, max_features=log2, min_samples_split=5, n_estimators=100;, score=0.752 total time=   1.5s\n",
      "[CV 2/5] END max_depth=10, max_features=log2, min_samples_split=5, n_estimators=100;, score=0.785 total time=   1.5s\n",
      "[CV 4/5] END max_depth=10, max_features=log2, min_samples_split=5, n_estimators=100;, score=0.721 total time=   1.6s\n",
      "[CV 1/5] END max_depth=10, max_features=log2, min_samples_split=5, n_estimators=200;, score=0.756 total time=   3.1s\n",
      "[CV 3/5] END max_depth=10, max_features=log2, min_samples_split=5, n_estimators=200;, score=0.794 total time=   3.1s\n",
      "[CV 5/5] END max_depth=10, max_features=log2, min_samples_split=5, n_estimators=200;, score=0.758 total time=   2.9s\n",
      "[CV 2/5] END max_depth=10, max_features=log2, min_samples_split=5, n_estimators=300;, score=0.779 total time=   4.7s\n",
      "[CV 4/5] END max_depth=10, max_features=log2, min_samples_split=5, n_estimators=300;, score=0.729 total time=   4.6s\n",
      "[CV 1/5] END max_depth=15, max_features=sqrt, min_samples_split=2, n_estimators=100;, score=0.790 total time=   2.0s\n",
      "[CV 3/5] END max_depth=15, max_features=sqrt, min_samples_split=2, n_estimators=100;, score=0.814 total time=   2.3s\n",
      "[CV 5/5] END max_depth=15, max_features=sqrt, min_samples_split=2, n_estimators=100;, score=0.817 total time=   2.1s\n",
      "[CV 2/5] END max_depth=15, max_features=sqrt, min_samples_split=2, n_estimators=200;, score=0.820 total time=   4.3s\n",
      "[CV 4/5] END max_depth=15, max_features=sqrt, min_samples_split=2, n_estimators=200;, score=0.754 total time=   4.6s\n",
      "[CV 1/5] END max_depth=15, max_features=sqrt, min_samples_split=2, n_estimators=300;, score=0.798 total time=   6.3s\n",
      "[CV 3/5] END max_depth=15, max_features=sqrt, min_samples_split=2, n_estimators=300;, score=0.814 total time=   6.5s\n",
      "[CV 5/5] END max_depth=15, max_features=sqrt, min_samples_split=2, n_estimators=300;, score=0.821 total time=   6.3s\n",
      "[CV 3/5] END max_depth=15, max_features=sqrt, min_samples_split=5, n_estimators=100;, score=0.817 total time=   2.1s\n",
      "[CV 5/5] END max_depth=15, max_features=sqrt, min_samples_split=5, n_estimators=100;, score=0.811 total time=   2.1s\n"
     ]
    },
    {
     "name": "stderr",
     "output_type": "stream",
     "text": [
      "/home/codespace/.local/lib/python3.12/site-packages/numpy/ma/core.py:2881: RuntimeWarning: invalid value encountered in cast\n",
      "  _data = np.array(data, dtype=dtype, copy=copy,\n"
     ]
    },
    {
     "name": "stdout",
     "output_type": "stream",
     "text": [
      "{'max_depth': 15, 'max_features': 'sqrt', 'min_samples_split': 2, 'n_estimators': 300}\n"
     ]
    }
   ],
   "source": [
    "param_grid = {\n",
    "    'n_estimators': [100, 200, 300],\n",
    "    'max_depth': [5, 10, 15],\n",
    "    'min_samples_split': [2, 5],\n",
    "    'max_features': ['sqrt', 'log2']\n",
    "}\n",
    "\n",
    "rf = RandomForestClassifier(random_state=42)\n",
    "cv = KFold(n_splits=5, shuffle=True, random_state=42)\n",
    "grid_search = GridSearchCV(estimator=rf, param_grid=param_grid, cv=cv, n_jobs=-1, verbose=3)\n",
    "grid_search.fit(X_train, y_train)\n",
    "\n",
    "print(grid_search.best_params_)"
   ]
  },
  {
   "cell_type": "code",
   "execution_count": 15,
   "id": "3aca265a-58c3-4956-a206-a357019ec781",
   "metadata": {},
   "outputs": [
    {
     "name": "stdout",
     "output_type": "stream",
     "text": [
      "{'max_depth': 15, 'max_features': 'sqrt', 'min_samples_split': 2, 'n_estimators': 300}\n"
     ]
    }
   ],
   "source": [
    "print(grid_search.best_params_)"
   ]
  },
  {
   "cell_type": "code",
   "execution_count": 16,
   "id": "6c48e95e-57c5-477d-9725-0905bded204f",
   "metadata": {},
   "outputs": [],
   "source": [
    "best_model = grid_search.best_estimator_"
   ]
  },
  {
   "cell_type": "code",
   "execution_count": 17,
   "id": "85c837e6-dbd2-4588-87c6-04fbfb664140",
   "metadata": {},
   "outputs": [
    {
     "data": {
      "text/plain": [
       "0.8189102564102564"
      ]
     },
     "execution_count": 17,
     "metadata": {},
     "output_type": "execute_result"
    }
   ],
   "source": [
    "pred = best_model.predict(X_test)\n",
    "accuracy_score(y_test, pred)"
   ]
  },
  {
   "cell_type": "code",
   "execution_count": 18,
   "id": "9c385870-73e2-4cbb-bde3-5015237eb6e3",
   "metadata": {},
   "outputs": [
    {
     "data": {
      "text/plain": [
       "0.967121090617482"
      ]
     },
     "execution_count": 18,
     "metadata": {},
     "output_type": "execute_result"
    }
   ],
   "source": [
    "train_pred = best_model.predict(X_train)\n",
    "accuracy_score(y_train, train_pred)"
   ]
  },
  {
   "cell_type": "code",
   "execution_count": 19,
   "id": "9a459e8e-5f01-45d8-8ce4-85a24a7d81c6",
   "metadata": {},
   "outputs": [
    {
     "name": "stdout",
     "output_type": "stream",
     "text": [
      "[CV 1/5] END max_depth=15, max_features=sqrt, min_samples_split=5, n_estimators=200;, score=0.789 total time=   4.0s\n",
      "[CV 3/5] END max_depth=15, max_features=sqrt, min_samples_split=5, n_estimators=200;, score=0.813 total time=   4.3s\n",
      "[CV 5/5] END max_depth=15, max_features=sqrt, min_samples_split=5, n_estimators=200;, score=0.810 total time=   4.2s\n",
      "[CV 2/5] END max_depth=15, max_features=sqrt, min_samples_split=5, n_estimators=300;, score=0.810 total time=   6.4s\n",
      "[CV 4/5] END max_depth=15, max_features=sqrt, min_samples_split=5, n_estimators=300;, score=0.766 total time=   6.5s\n",
      "[CV 1/5] END max_depth=15, max_features=log2, min_samples_split=2, n_estimators=100;, score=0.798 total time=   1.9s\n",
      "[CV 2/5] END max_depth=15, max_features=log2, min_samples_split=2, n_estimators=100;, score=0.813 total time=   1.9s\n",
      "[CV 4/5] END max_depth=15, max_features=log2, min_samples_split=2, n_estimators=100;, score=0.762 total time=   1.8s\n",
      "[CV 1/5] END max_depth=15, max_features=log2, min_samples_split=2, n_estimators=200;, score=0.796 total time=   3.7s\n",
      "[CV 3/5] END max_depth=15, max_features=log2, min_samples_split=2, n_estimators=200;, score=0.803 total time=   4.0s\n",
      "[CV 5/5] END max_depth=15, max_features=log2, min_samples_split=2, n_estimators=200;, score=0.803 total time=   3.5s\n",
      "[CV 2/5] END max_depth=15, max_features=log2, min_samples_split=2, n_estimators=300;, score=0.810 total time=   5.5s\n",
      "[CV 4/5] END max_depth=15, max_features=log2, min_samples_split=2, n_estimators=300;, score=0.758 total time=   5.7s\n",
      "[CV 1/5] END max_depth=15, max_features=log2, min_samples_split=5, n_estimators=100;, score=0.792 total time=   1.9s\n",
      "[CV 2/5] END max_depth=15, max_features=log2, min_samples_split=5, n_estimators=100;, score=0.826 total time=   1.8s\n",
      "[CV 4/5] END max_depth=15, max_features=log2, min_samples_split=5, n_estimators=100;, score=0.769 total time=   2.3s\n",
      "[CV 1/5] END max_depth=15, max_features=log2, min_samples_split=5, n_estimators=200;, score=0.801 total time=   3.5s\n",
      "[CV 3/5] END max_depth=15, max_features=log2, min_samples_split=5, n_estimators=200;, score=0.813 total time=   3.6s\n",
      "[CV 5/5] END max_depth=15, max_features=log2, min_samples_split=5, n_estimators=200;, score=0.807 total time=   3.7s\n",
      "[CV 2/5] END max_depth=15, max_features=log2, min_samples_split=5, n_estimators=300;, score=0.817 total time=   5.4s\n",
      "[CV 4/5] END max_depth=15, max_features=log2, min_samples_split=5, n_estimators=300;, score=0.766 total time=   5.8s\n",
      "[CV 2/5] END max_depth=15, max_features=sqrt, min_samples_split=5, n_estimators=200;, score=0.806 total time=   4.2s\n",
      "[CV 4/5] END max_depth=15, max_features=sqrt, min_samples_split=5, n_estimators=200;, score=0.765 total time=   4.5s\n",
      "[CV 1/5] END max_depth=15, max_features=sqrt, min_samples_split=5, n_estimators=300;, score=0.800 total time=   6.2s\n",
      "[CV 3/5] END max_depth=15, max_features=sqrt, min_samples_split=5, n_estimators=300;, score=0.813 total time=   6.4s\n",
      "[CV 5/5] END max_depth=15, max_features=sqrt, min_samples_split=5, n_estimators=300;, score=0.806 total time=   6.4s\n",
      "[CV 3/5] END max_depth=15, max_features=log2, min_samples_split=2, n_estimators=100;, score=0.810 total time=   1.8s\n",
      "[CV 5/5] END max_depth=15, max_features=log2, min_samples_split=2, n_estimators=100;, score=0.803 total time=   1.7s\n",
      "[CV 2/5] END max_depth=15, max_features=log2, min_samples_split=2, n_estimators=200;, score=0.810 total time=   3.6s\n",
      "[CV 4/5] END max_depth=15, max_features=log2, min_samples_split=2, n_estimators=200;, score=0.754 total time=   4.1s\n",
      "[CV 1/5] END max_depth=15, max_features=log2, min_samples_split=2, n_estimators=300;, score=0.797 total time=   5.4s\n",
      "[CV 3/5] END max_depth=15, max_features=log2, min_samples_split=2, n_estimators=300;, score=0.809 total time=   5.6s\n",
      "[CV 5/5] END max_depth=15, max_features=log2, min_samples_split=2, n_estimators=300;, score=0.806 total time=   5.3s\n",
      "[CV 3/5] END max_depth=15, max_features=log2, min_samples_split=5, n_estimators=100;, score=0.806 total time=   1.7s\n",
      "[CV 5/5] END max_depth=15, max_features=log2, min_samples_split=5, n_estimators=100;, score=0.813 total time=   2.1s\n",
      "[CV 2/5] END max_depth=15, max_features=log2, min_samples_split=5, n_estimators=200;, score=0.820 total time=   3.6s\n",
      "[CV 4/5] END max_depth=15, max_features=log2, min_samples_split=5, n_estimators=200;, score=0.758 total time=   3.8s\n",
      "[CV 1/5] END max_depth=15, max_features=log2, min_samples_split=5, n_estimators=300;, score=0.801 total time=   5.4s\n",
      "[CV 3/5] END max_depth=15, max_features=log2, min_samples_split=5, n_estimators=300;, score=0.807 total time=   5.4s\n",
      "[CV 5/5] END max_depth=15, max_features=log2, min_samples_split=5, n_estimators=300;, score=0.805 total time=   4.9s\n"
     ]
    }
   ],
   "source": [
    "with open(\"engulfing_bearish_rf.pickle\", 'wb') as f:\n",
    "    pickle.dump(best_model, f)"
   ]
  },
  {
   "cell_type": "code",
   "execution_count": null,
   "id": "d280bbbe-9e74-457e-958c-ec0be3144784",
   "metadata": {},
   "outputs": [],
   "source": []
  },
  {
   "cell_type": "code",
   "execution_count": null,
   "id": "c490b973-91c1-4720-961c-2878c3655035",
   "metadata": {},
   "outputs": [],
   "source": []
  }
 ],
 "metadata": {
  "kernelspec": {
   "display_name": "Python 3 (ipykernel)",
   "language": "python",
   "name": "python3"
  },
  "language_info": {
   "codemirror_mode": {
    "name": "ipython",
    "version": 3
   },
   "file_extension": ".py",
   "mimetype": "text/x-python",
   "name": "python",
   "nbconvert_exporter": "python",
   "pygments_lexer": "ipython3",
   "version": "3.12.1"
  }
 },
 "nbformat": 4,
 "nbformat_minor": 5
}
